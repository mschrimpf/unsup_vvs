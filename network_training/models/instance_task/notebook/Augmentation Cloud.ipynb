{
 "cells": [
  {
   "cell_type": "code",
   "execution_count": 47,
   "metadata": {},
   "outputs": [
    {
     "data": {
      "text/plain": [
       "<module 'jupyter_utils' from 'jupyter_utils.pyc'>"
      ]
     },
     "execution_count": 47,
     "metadata": {},
     "output_type": "execute_result"
    }
   ],
   "source": [
    "import pymongo as pm\n",
    "import gridfs\n",
    "import cPickle\n",
    "import numpy as np\n",
    "%matplotlib inline\n",
    "import matplotlib.pyplot as plt\n",
    "import pylab\n",
    "\n",
    "from scipy import misc\n",
    "import os\n",
    "import time\n",
    "import json\n",
    "\n",
    "import jupyter_utils as utils\n",
    "reload(utils)"
   ]
  },
  {
   "cell_type": "code",
   "execution_count": 72,
   "metadata": {},
   "outputs": [
    {
     "name": "stdout",
     "output_type": "stream",
     "text": [
      "(1251, 2000, 128) (1251, 128)\n"
     ]
    }
   ],
   "source": [
    "data = np.load('/mnt/fs3/azhai/augmentation_cloud/ep50_train0.npz')\n",
    "aug_emb = data['augmented_embeddings']\n",
    "center_emb = data['center_crop_embeddings']\n",
    "print aug_emb.shape, center_emb.shape"
   ]
  },
  {
   "cell_type": "code",
   "execution_count": 51,
   "metadata": {},
   "outputs": [
    {
     "name": "stdout",
     "output_type": "stream",
     "text": [
      "(1171, 2000, 128) (1171, 128)\n"
     ]
    }
   ],
   "source": [
    "valid_files = [\n",
    "    '/mnt/fs3/azhai/augmentation_cloud/ep200_valid0.npz',\n",
    "    '/mnt/fs3/azhai/augmentation_cloud/ep200_valid1.npz',\n",
    "    '/mnt/fs3/azhai/augmentation_cloud/ep200_valid2.npz',\n",
    "]\n",
    "val_aug_emb = []\n",
    "val_emb = []\n",
    "\n",
    "for f in valid_files:\n",
    "    data = np.load(f)\n",
    "    val_aug_emb.append(data['augmented_embeddings'])\n",
    "    val_emb.append(data['center_crop_embeddings'])\n",
    "val_aug_emb = np.concatenate(val_aug_emb)\n",
    "val_emb = np.concatenate(val_emb)\n",
    "print val_aug_emb.shape, val_emb.shape"
   ]
  },
  {
   "cell_type": "code",
   "execution_count": 50,
   "metadata": {},
   "outputs": [
    {
     "name": "stdout",
     "output_type": "stream",
     "text": [
      "Restoring model from /mnt/fs1/azhai/checkpoints/instance_task/control/checkpoint-2001800\n",
      "INFO:tensorflow:Restoring parameters from /mnt/fs1/azhai/checkpoints/instance_task/control/checkpoint-2001800\n"
     ]
    },
    {
     "name": "stderr",
     "output_type": "stream",
     "text": [
      "INFO:tensorflow:Restoring parameters from /mnt/fs1/azhai/checkpoints/instance_task/control/checkpoint-2001800\n"
     ]
    }
   ],
   "source": [
    "epoch_num = 200\n",
    "tr = utils.TfutilsReader('instance_task', 'control', 'full', port=27009, cache_dir='/mnt/fs1/azhai/checkpoints')\n",
    "mb = utils.MemoryBank.load(tr, step_num=epoch_num*10009, gpu=2)"
   ]
  },
  {
   "cell_type": "code",
   "execution_count": 67,
   "metadata": {},
   "outputs": [],
   "source": [
    "aug_pca = np.load('/mnt/fs3/azhai/augmentation_cloud/ep200_train0_pca.npy')\n",
    "aug_pca_vecs = [x['principal_vecs'] for x in aug_pca]\n",
    "aug_pca_vars = [x['variance_weights'] for x in aug_pca]"
   ]
  },
  {
   "cell_type": "code",
   "execution_count": 73,
   "metadata": {},
   "outputs": [
    {
     "name": "stdout",
     "output_type": "stream",
     "text": [
      "0.865377\n",
      "0.88474\n"
     ]
    },
    {
     "data": {
      "image/png": "[encoded data removed]",
      "text/plain": [
       "<Figure size 432x288 with 1 Axes>"
      ]
     },
     "metadata": {},
     "output_type": "display_data"
    }
   ],
   "source": [
    "# Lengths of mean vectors of augmentation clouds\n",
    "\n",
    "cloud_means = np.mean(aug_emb, axis=1)\n",
    "plt.hist(np.linalg.norm(cloud_means, axis=1), bins=30)\n",
    "print np.mean(np.linalg.norm(cloud_means, axis=1))\n",
    "\n",
    "val_cloud_means = np.mean(val_aug_emb, axis=1)\n",
    "plt.hist(np.linalg.norm(val_cloud_means, axis=1), bins=30)\n",
    "print np.mean(np.linalg.norm(val_cloud_means, axis=1))\n",
    "\n",
    "plt.show()"
   ]
  },
  {
   "cell_type": "code",
   "execution_count": 60,
   "metadata": {},
   "outputs": [
    {
     "data": {
      "image/png": "[encoded data removed]",
      "text/plain": [
       "<Figure size 432x288 with 1 Axes>"
      ]
     },
     "metadata": {},
     "output_type": "display_data"
    }
   ],
   "source": [
    "# Correlation between augmentation clouds and their corresponding center crop embedding\n",
    "\n",
    "def emb_corr(idxs):\n",
    "    all_corrs = []\n",
    "    for idx in idxs:\n",
    "        corrs = np.dot(aug_emb[ex_idx], center_emb[ex_idx].T)\n",
    "        all_corrs.append(corrs)\n",
    "    all_corrs = np.concatenate(all_corrs)\n",
    "    plt.hist(all_corrs, bins=30)\n",
    "    plt.show()\n",
    "    \n",
    "emb_corr(range(1251))"
   ]
  },
  {
   "cell_type": "code",
   "execution_count": 54,
   "metadata": {},
   "outputs": [
    {
     "name": "stdout",
     "output_type": "stream",
     "text": [
      "Processing 0\n",
      "Processing 1\n",
      "650 745 826\n",
      "Processing 2\n",
      "519 464 519\n",
      "Processing 3\n",
      "Processing 4\n",
      "497 755 483\n",
      "Processing 5\n",
      "178 933 263\n",
      "Processing 6\n",
      "Processing 7\n",
      "Processing 8\n",
      "Processing 9\n",
      "Processing 10\n",
      "Processing 11\n",
      "220 246 184\n",
      "Processing 12\n",
      "727 803 705\n",
      "Processing 13\n",
      "544 949 544\n",
      "Processing 14\n",
      "Processing 15\n",
      "Processing 16\n",
      "Processing 17\n",
      "Processing 18\n",
      "Processing 19\n",
      "536 780 536\n",
      "Processing 20\n",
      "714 714 968\n",
      "Processing 21\n",
      "Processing 22\n",
      "415 860 394\n",
      "Processing 23\n",
      "Processing 24\n",
      "257 204 257\n",
      "Processing 25\n",
      "Processing 26\n",
      "896 719 684\n",
      "Processing 27\n",
      "Processing 28\n",
      "Processing 29\n",
      "Processing 30\n",
      "Processing 31\n",
      "138 912 319\n",
      "Processing 32\n",
      "Processing 33\n",
      "Processing 34\n",
      "Processing 35\n",
      "Processing 36\n",
      "Processing 37\n",
      "235 235 249\n",
      "Processing 38\n",
      "527 508 620\n",
      "Processing 39\n",
      "758 26 815\n",
      "Processing 40\n",
      "Processing 41\n",
      "Processing 42\n",
      "106 224 275\n",
      "Processing 43\n",
      "Processing 44\n",
      "Processing 45\n",
      "Processing 46\n",
      "Processing 47\n",
      "973 327 393\n",
      "Processing 48\n",
      "Processing 49\n",
      "776 642 862\n",
      "Processing 50\n",
      "132 131 132\n",
      "Processing 51\n",
      "Processing 52\n",
      "Processing 53\n",
      "Processing 54\n",
      "Processing 55\n",
      "Processing 56\n",
      "Processing 57\n",
      "346 257 344\n",
      "Processing 58\n",
      "788 837 788\n",
      "Processing 59\n",
      "Processing 60\n",
      "Processing 61\n",
      "111 584 111\n",
      "Processing 62\n",
      "660 600 864\n",
      "Processing 63\n",
      "611 982 611\n",
      "Processing 64\n",
      "Processing 65\n",
      "Processing 66\n",
      "43 42 31\n",
      "Processing 67\n",
      "919 999 704\n",
      "Processing 68\n",
      "Processing 69\n",
      "796 399 557\n",
      "Processing 70\n",
      "411 432 573\n",
      "Processing 71\n",
      "756 412 756\n",
      "Processing 72\n",
      "Processing 73\n",
      "782 782 527\n",
      "Processing 74\n",
      "733 874 900\n",
      "Processing 75\n",
      "Processing 76\n",
      "Processing 77\n",
      "Processing 78\n",
      "Processing 79\n",
      "Processing 80\n",
      "Processing 81\n",
      "Processing 82\n",
      "Processing 83\n",
      "Processing 84\n",
      "230 229 230\n",
      "Processing 85\n",
      "Processing 86\n",
      "Processing 87\n",
      "Processing 88\n",
      "Processing 89\n",
      "Processing 90\n",
      "122 934 809\n",
      "Processing 91\n",
      "Processing 92\n",
      "Processing 93\n",
      "Processing 94\n",
      "Processing 95\n",
      "Processing 96\n",
      "Processing 97\n",
      "260 207 260\n",
      "Processing 98\n",
      "Processing 99\n",
      "248 257 250\n",
      "num correct: 31 ratio: 0.31\n"
     ]
    }
   ],
   "source": [
    "with open('/mnt/fs1/Dataset/TFRecord_Imagenet_standard/image_label_full_widx/validation_labels.json') as f:\n",
    "    val_labels = json.loads(f.read())\n",
    "    val_labels = np.array(val_labels)\n",
    "\n",
    "def run_validation(idxs):\n",
    "    true_labels = val_labels[idxs]\n",
    "    labels = mb.classify(val_emb[idxs])\n",
    "    \n",
    "    def most_common(lst):\n",
    "        return max(set(lst), key=lst.count)\n",
    "\n",
    "    num_correct = 0\n",
    "    k = 16\n",
    "    for i, val_idx in enumerate(idxs):\n",
    "        print 'Processing', i\n",
    "        aug_labels = mb.classify(val_aug_emb[val_idx][:k])\n",
    "        l = most_common(aug_labels)\n",
    "        if l != labels[i]:\n",
    "            print true_labels[i], labels[i], l\n",
    "        if labels[i] == true_labels[i]:\n",
    "            num_correct += 1\n",
    "    \n",
    "    print 'num correct:', num_correct, 'ratio:', (num_correct / float(len(idxs)))\n",
    "    \n",
    "run_validation(range(100))"
   ]
  },
  {
   "cell_type": "code",
   "execution_count": null,
   "metadata": {},
   "outputs": [],
   "source": []
  }
 ],
 "metadata": {
  "kernelspec": {
   "display_name": "Python 2",
   "language": "python",
   "name": "python2"
  },
  "language_info": {
   "codemirror_mode": {
    "name": "ipython",
    "version": 2
   },
   "file_extension": ".py",
   "mimetype": "text/x-python",
   "name": "python",
   "nbconvert_exporter": "python",
   "pygments_lexer": "ipython2",
   "version": "2.7.12"
  }
 },
 "nbformat": 4,
 "nbformat_minor": 2
}
