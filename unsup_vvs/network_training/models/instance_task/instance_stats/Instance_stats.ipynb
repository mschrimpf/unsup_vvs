{
 "cells": [
  {
   "cell_type": "code",
   "execution_count": 344,
   "metadata": {},
   "outputs": [],
   "source": [
    "import numpy as np\n",
    "import cPickle\n",
    "import matplotlib.pyplot as plt\n",
    "from sklearn.metrics import confusion_matrix\n",
    "import itertools\n",
    "import random"
   ]
  },
  {
   "cell_type": "code",
   "execution_count": 30,
   "metadata": {},
   "outputs": [],
   "source": [
    "data = cPickle.load(open('/mnt/fs1/chengxuz/instance_features.pkl', 'r'))"
   ]
  },
  {
   "cell_type": "code",
   "execution_count": 223,
   "metadata": {},
   "outputs": [
    {
     "data": {
      "text/plain": [
       "['val_output', 'val_label', 'label_list', 'memory_bank', 'all_labels']"
      ]
     },
     "execution_count": 223,
     "metadata": {},
     "output_type": "execute_result"
    }
   ],
   "source": [
    "data.keys()"
   ]
  },
  {
   "cell_type": "code",
   "execution_count": 224,
   "metadata": {},
   "outputs": [
    {
     "data": {
      "text/plain": [
       "(50000, 128)"
      ]
     },
     "execution_count": 224,
     "metadata": {},
     "output_type": "execute_result"
    }
   ],
   "source": [
    "data['val_output'].shape"
   ]
  },
  {
   "cell_type": "code",
   "execution_count": 319,
   "metadata": {},
   "outputs": [
    {
     "data": {
      "text/plain": [
       "(1281167,)"
      ]
     },
     "execution_count": 319,
     "metadata": {},
     "output_type": "execute_result"
    }
   ],
   "source": [
    "data['all_labels'].shape"
   ]
  },
  {
   "cell_type": "code",
   "execution_count": 108,
   "metadata": {},
   "outputs": [],
   "source": [
    "#returns list of mean vectors\n",
    "def compute_training_means(data):\n",
    "        class_mean_list = []\n",
    "        u, indices = np.unique(data['all_labels'],return_index=True)\n",
    "        for i in range(u.shape[0]-1):\n",
    "                category_mean = np.mean(data['memory_bank'][indices[i]:indices[i+1]],axis=0)\n",
    "                category_mean = category_mean.reshape((128,1))\n",
    "                #category_mean.reshape((128,1))\n",
    "                class_mean_list.append(category_mean)\n",
    "        class_mean_list.append(np.mean(data['memory_bank'][indices[999]:],axis=0))\n",
    "        return class_mean_list"
   ]
  },
  {
   "cell_type": "code",
   "execution_count": 109,
   "metadata": {},
   "outputs": [
    {
     "data": {
      "text/plain": [
       "1278567"
      ]
     },
     "execution_count": 109,
     "metadata": {},
     "output_type": "execute_result"
    }
   ],
   "source": [
    "a, indx = np.unique(data['all_labels'],return_index=True)\n",
    "indx[998]"
   ]
  },
  {
   "cell_type": "code",
   "execution_count": 110,
   "metadata": {},
   "outputs": [
    {
     "name": "stdout",
     "output_type": "stream",
     "text": [
      "1000\n"
     ]
    }
   ],
   "source": [
    "training_means = compute_training_means(data)\n",
    "print(len(training_means))\n",
    "#print(training_means[1].T)"
   ]
  },
  {
   "cell_type": "code",
   "execution_count": 101,
   "metadata": {},
   "outputs": [],
   "source": [
    "#accuracy on validation set\n",
    "def check_val_accuracy(data):\n",
    "        same_class = 0\n",
    "        for i in range(data['val_label'].shape[0]):\n",
    "                most_sim_indx = np.argmax( np.dot( data['memory_bank'], data['val_output'][i].reshape(128,1)))\n",
    "                if data['val_label'][i] == data['all_labels'][most_sim_indx]:\n",
    "                        same_class +=1\n",
    "        return same_class"
   ]
  },
  {
   "cell_type": "code",
   "execution_count": 102,
   "metadata": {},
   "outputs": [
    {
     "name": "stdout",
     "output_type": "stream",
     "text": [
      "15402\n"
     ]
    }
   ],
   "source": [
    "val_accuracy = check_val_accuracy(data)\n",
    "print(val_accuracy)\n",
    "#seems slow"
   ]
  },
  {
   "cell_type": "code",
   "execution_count": 103,
   "metadata": {},
   "outputs": [
    {
     "data": {
      "text/plain": [
       "0.30804"
      ]
     },
     "execution_count": 103,
     "metadata": {},
     "output_type": "execute_result"
    }
   ],
   "source": [
    "#Accuracy on validation set:\n",
    "15402/50000."
   ]
  },
  {
   "cell_type": "code",
   "execution_count": 111,
   "metadata": {},
   "outputs": [
    {
     "data": {
      "text/plain": [
       "(1300, 128)"
      ]
     },
     "execution_count": 111,
     "metadata": {},
     "output_type": "execute_result"
    }
   ],
   "source": [
    "u, indices = np.unique(data['all_labels'],return_index=True)\n",
    "data['memory_bank'][indices[888]:indices[889]].shape\n"
   ]
  },
  {
   "cell_type": "code",
   "execution_count": 112,
   "metadata": {},
   "outputs": [],
   "source": [
    "#collect similarities between classes\n",
    "\n",
    "def similarity_within_class(data,means_list):\n",
    "    #list of arrays of similarities within each class\n",
    "    class_similarity_list = []\n",
    "    u, indices = np.unique(data['all_labels'],return_index=True)\n",
    "    for i in range(len(indices)-1):\n",
    "        class_similarity = np.dot(data['memory_bank'][indices[i]:indices[i+1]],means_list[i])\n",
    "        class_similarity = class_similarity.reshape((class_similarity.shape[0],))\n",
    "        class_similarity_list.append(class_similarity)\n",
    "    \n",
    "    #handling the last one\n",
    "    last_class_similarity = np.dot(data['memory_bank'][indices[999]:],means_list[999])\n",
    "    last_class_similarity = last_class_similarity.reshape((last_class_similarity.shape[0],))\n",
    "    class_similarity_list.append(last_class_similarity)\n",
    "    \n",
    "    return class_similarity_list\n",
    "\n",
    "        \n",
    "        \n",
    "    \n",
    "    "
   ]
  },
  {
   "cell_type": "code",
   "execution_count": 129,
   "metadata": {},
   "outputs": [
    {
     "data": {
      "text/plain": [
       "(1300,)"
      ]
     },
     "execution_count": 129,
     "metadata": {},
     "output_type": "execute_result"
    }
   ],
   "source": [
    "class_similarity_list = similarity_within_class(data,training_means)\n",
    "class_similarity_list[0].shape\n",
    "#len(class_similarity_list)"
   ]
  },
  {
   "cell_type": "code",
   "execution_count": 185,
   "metadata": {},
   "outputs": [
    {
     "data": {
      "text/plain": [
       "(array([  5.,   6.,  18.,  11.,  23.,  22.,  38.,  37.,  50.,  57.,  72.,\n",
       "         78.,  88.,  90., 103.,  85.,  77.,  98.,  88.,  63.,  53.,  46.,\n",
       "         31.,  20.,  18.,  12.,   6.,   4.,   0.,   1.]),\n",
       " array([-0.02858696, -0.02301735, -0.01744774, -0.01187813, -0.00630852,\n",
       "        -0.00073891,  0.0048307 ,  0.01040031,  0.01596992,  0.02153953,\n",
       "         0.02710914,  0.03267875,  0.03824836,  0.04381797,  0.04938758,\n",
       "         0.05495719,  0.0605268 ,  0.06609641,  0.07166602,  0.07723563,\n",
       "         0.08280525,  0.08837485,  0.09394447,  0.09951407,  0.10508368,\n",
       "         0.1106533 ,  0.1162229 ,  0.12179252,  0.12736213,  0.13293174,\n",
       "         0.13850135], dtype=float32),\n",
       " <a list of 30 Patch objects>)"
      ]
     },
     "execution_count": 185,
     "metadata": {},
     "output_type": "execute_result"
    },
    {
     "data": {
      "image/png": "[encoded data removed]",
      "text/plain": [
       "<Figure size 432x288 with 1 Axes>"
      ]
     },
     "metadata": {},
     "output_type": "display_data"
    }
   ],
   "source": [
    "#plot histogram for class similarity in class zero\n",
    "\n",
    "plt.hist(class_similarity_list[234],bins=30)\n",
    "\n"
   ]
  },
  {
   "cell_type": "code",
   "execution_count": 242,
   "metadata": {},
   "outputs": [
    {
     "data": {
      "text/plain": [
       "(array([  4.,  19.,  43.,  60., 104., 100., 123., 107.,  95.,  75.,  63.,\n",
       "         60.,  36.,  30.,  22.,  12.,   9.,  12.,  10.,   2.,   4.,   3.,\n",
       "          3.,   0.,   1.,   1.,   0.,   0.,   0.,   2.]),\n",
       " array([0.00959024, 0.0161985 , 0.02280676, 0.02941502, 0.03602328,\n",
       "        0.04263154, 0.0492398 , 0.05584805, 0.06245631, 0.06906457,\n",
       "        0.07567283, 0.08228109, 0.08888935, 0.0954976 , 0.10210586,\n",
       "        0.10871412, 0.11532238, 0.12193064, 0.12853889, 0.13514715,\n",
       "        0.14175542, 0.14836368, 0.15497193, 0.16158019, 0.16818845,\n",
       "        0.1747967 , 0.18140496, 0.18801323, 0.19462149, 0.20122974,\n",
       "        0.207838  ], dtype=float32),\n",
       " <a list of 30 Patch objects>)"
      ]
     },
     "execution_count": 242,
     "metadata": {},
     "output_type": "execute_result"
    },
    {
     "data": {
      "image/png": "[encoded data removed]",
      "text/plain": [
       "<Figure size 432x288 with 1 Axes>"
      ]
     },
     "metadata": {},
     "output_type": "display_data"
    }
   ],
   "source": [
    "mean_class_list = []\n",
    "for i in range(len(class_similarity_list)):\n",
    "    mean_class_list.append(np.mean(class_similarity_list[i]))\n",
    "\n",
    "plt.hist(mean_class_list,bins=30)"
   ]
  },
  {
   "cell_type": "code",
   "execution_count": 86,
   "metadata": {},
   "outputs": [],
   "source": [
    "#confusion matrix\n",
    "\n",
    "actual_indices = data['val_label']\n",
    "\n",
    "training_means_matrix = np.zeros((1000,128))\n",
    "\n",
    "for i in range(len(training_means)):\n",
    "    training_means_matrix[i] = training_means[i].T\n",
    "\n",
    "def find_predicted_indices(data):\n",
    "    predicted_indices = np.zeros((data['val_label'].shape[0],))\n",
    "    for i in range(data['val_label'].shape[0]):\n",
    "        predicted_indices[i] = np.argmax(np.dot( training_means_matrix, data['val_output'][i]  ))\n",
    "    \n",
    "    return predicted_indices\n",
    "\n",
    "predicted_indices = find_predicted_indices(data)\n",
    "\n",
    "    "
   ]
  },
  {
   "cell_type": "code",
   "execution_count": 116,
   "metadata": {},
   "outputs": [],
   "source": [
    "confusion_matrix = confusion_matrix(actual_indices,predicted_indices)"
   ]
  },
  {
   "cell_type": "code",
   "execution_count": 117,
   "metadata": {},
   "outputs": [
    {
     "data": {
      "text/plain": [
       "array([[29,  0,  0, ...,  0,  0,  0],\n",
       "       [ 0, 10,  1, ...,  0,  0,  0],\n",
       "       [ 0,  0, 19, ...,  0,  0,  0],\n",
       "       ...,\n",
       "       [ 0,  0,  0, ..., 10,  0,  0],\n",
       "       [ 0,  0,  1, ...,  0,  5,  0],\n",
       "       [ 0,  0,  0, ...,  0,  0,  0]])"
      ]
     },
     "execution_count": 117,
     "metadata": {},
     "output_type": "execute_result"
    }
   ],
   "source": [
    "confusion_matrix"
   ]
  },
  {
   "cell_type": "code",
   "execution_count": 118,
   "metadata": {},
   "outputs": [
    {
     "data": {
      "text/plain": [
       "0.20572"
      ]
     },
     "execution_count": 118,
     "metadata": {},
     "output_type": "execute_result"
    }
   ],
   "source": [
    "np.trace(confusion_matrix)/50000."
   ]
  },
  {
   "cell_type": "code",
   "execution_count": 92,
   "metadata": {},
   "outputs": [
    {
     "data": {
      "text/plain": [
       "<matplotlib.image.AxesImage at 0x7f720e8df610>"
      ]
     },
     "execution_count": 92,
     "metadata": {},
     "output_type": "execute_result"
    },
    {
     "data": {
      "image/png": "[encoded data removed]",
      "text/plain": [
       "<Figure size 288x288 with 1 Axes>"
      ]
     },
     "metadata": {},
     "output_type": "display_data"
    }
   ],
   "source": [
    "plt.matshow(confusion_matrix)"
   ]
  },
  {
   "cell_type": "code",
   "execution_count": null,
   "metadata": {},
   "outputs": [],
   "source": [
    "#taken from https://www.kaggle.com/grfiv4/plot-a-confusion-matrix\n",
    "\n",
    "def plot_confusion_matrix(cm,\n",
    "                          target_names,\n",
    "                          title='Confusion matrix',\n",
    "                          cmap=None,\n",
    "                          normalize=True):\n",
    "    \"\"\"\n",
    "    given a sklearn confusion matrix (cm), make a nice plot\n",
    "\n",
    "    Arguments\n",
    "    ---------\n",
    "    cm:           confusion matrix from sklearn.metrics.confusion_matrix\n",
    "\n",
    "    target_names: given classification classes such as [0, 1, 2]\n",
    "                  the class names, for example: ['high', 'medium', 'low']\n",
    "\n",
    "    title:        the text to display at the top of the matrix\n",
    "\n",
    "    cmap:         the gradient of the values displayed from matplotlib.pyplot.cm\n",
    "                  see http://matplotlib.org/examples/color/colormaps_reference.html\n",
    "                  plt.get_cmap('jet') or plt.cm.Blues\n",
    "\n",
    "    normalize:    If False, plot the raw numbers\n",
    "                  If True, plot the proportions\n",
    "\n",
    "    Usage\n",
    "    -----\n",
    "    plot_confusion_matrix(cm           = cm,                  # confusion matrix created by\n",
    "                                                              # sklearn.metrics.confusion_matrix\n",
    "                          normalize    = True,                # show proportions\n",
    "                          target_names = y_labels_vals,       # list of names of the classes\n",
    "                          title        = best_estimator_name) # title of graph\n",
    "\n",
    "    Citiation\n",
    "    ---------\n",
    "    http://scikit-learn.org/stable/auto_examples/model_selection/plot_confusion_matrix.html\n",
    "\n",
    "    \"\"\"\n",
    "\n",
    "    accuracy = np.trace(cm) / float(np.sum(cm))\n",
    "    misclass = 1 - accuracy\n",
    "\n",
    "    if cmap is None:\n",
    "        cmap = plt.get_cmap('Blues')\n",
    "\n",
    "    plt.figure(figsize=(8, 6))\n",
    "    plt.imshow(cm, interpolation='nearest', cmap=cmap)\n",
    "    plt.title(title)\n",
    "    plt.colorbar()\n",
    "\n",
    "    if target_names is not None:\n",
    "        tick_marks = np.arange(len(target_names))\n",
    "        plt.xticks(tick_marks, target_names, rotation=45)\n",
    "        plt.yticks(tick_marks, target_names)\n",
    "\n",
    "    if normalize:\n",
    "        cm = cm.astype('float') / cm.sum(axis=1)[:, np.newaxis]\n",
    "\n",
    "\n",
    "    thresh = cm.max() / 1.5 if normalize else cm.max() / 2\n",
    "    for i, j in itertools.product(range(cm.shape[0]), range(cm.shape[1])):\n",
    "        if normalize:\n",
    "            plt.text(j, i, \"{:0.4f}\".format(cm[i, j]),\n",
    "                     horizontalalignment=\"center\",\n",
    "                     color=\"white\" if cm[i, j] > thresh else \"black\")\n",
    "        else:\n",
    "            plt.text(j, i, \"{:,}\".format(cm[i, j]),\n",
    "                     horizontalalignment=\"center\",\n",
    "                     color=\"white\" if cm[i, j] > thresh else \"black\")\n",
    "\n",
    "\n",
    "    plt.tight_layout()\n",
    "    plt.ylabel('True label')\n",
    "    plt.xlabel('Predicted label\\naccuracy={:0.4f}; misclass={:0.4f}'.format(accuracy, misclass))\n",
    "\n",
    "plot_confusion_matrix(confusion_matrix,np.arange(1000),normalize=False)"
   ]
  },
  {
   "cell_type": "code",
   "execution_count": 128,
   "metadata": {},
   "outputs": [],
   "source": [
    "#compute pairwise correlation between images of a given class\n"
   ]
  },
  {
   "cell_type": "code",
   "execution_count": 270,
   "metadata": {},
   "outputs": [
    {
     "name": "stdout",
     "output_type": "stream",
     "text": [
      "[301 780]\n",
      "301\n",
      "[158 361]\n",
      "158\n",
      "[ 37 142]\n",
      "37\n",
      "[351 393]\n",
      "351\n",
      "[374 779]\n",
      "374\n",
      "[ 729 1107]\n",
      "729\n",
      "[ 831 1125]\n",
      "831\n",
      "[201 776]\n",
      "201\n",
      "[ 385 1077]\n",
      "385\n",
      "[559 760]\n",
      "559\n"
     ]
    },
    {
     "data": {
      "text/plain": [
       "(array([4.000e+00, 5.000e+00, 1.400e+01, 3.500e+01, 4.600e+01, 6.900e+01,\n",
       "        1.450e+02, 2.290e+02, 3.650e+02, 5.290e+02, 7.020e+02, 8.220e+02,\n",
       "        1.076e+03, 1.260e+03, 1.351e+03, 1.470e+03, 1.432e+03, 1.400e+03,\n",
       "        1.251e+03, 1.205e+03, 1.074e+03, 9.030e+02, 8.920e+02, 7.150e+02,\n",
       "        5.690e+02, 4.730e+02, 4.170e+02, 3.680e+02, 2.470e+02, 2.480e+02,\n",
       "        1.770e+02, 1.250e+02, 8.200e+01, 8.500e+01, 5.700e+01, 4.600e+01,\n",
       "        2.900e+01, 2.300e+01, 1.700e+01, 1.900e+01, 8.000e+00, 6.000e+00,\n",
       "        3.000e+00, 4.000e+00, 1.000e+00, 0.000e+00, 0.000e+00, 0.000e+00,\n",
       "        1.000e+00, 1.000e+00]),\n",
       " array([-3.0366832e-01, -2.8202173e-01, -2.6037514e-01, -2.3872854e-01,\n",
       "        -2.1708193e-01, -1.9543535e-01, -1.7378876e-01, -1.5214215e-01,\n",
       "        -1.3049556e-01, -1.0884897e-01, -8.7202370e-02, -6.5555774e-02,\n",
       "        -4.3909181e-02, -2.2262584e-02, -6.1599014e-04,  2.1030605e-02,\n",
       "         4.2677201e-02,  6.4323798e-02,  8.5970387e-02,  1.0761698e-01,\n",
       "         1.2926358e-01,  1.5091017e-01,  1.7255677e-01,  1.9420336e-01,\n",
       "         2.1584997e-01,  2.3749655e-01,  2.5914314e-01,  2.8078973e-01,\n",
       "         3.0243635e-01,  3.2408294e-01,  3.4572953e-01,  3.6737612e-01,\n",
       "         3.8902271e-01,  4.1066933e-01,  4.3231592e-01,  4.5396250e-01,\n",
       "         4.7560909e-01,  4.9725568e-01,  5.1890230e-01,  5.4054886e-01,\n",
       "         5.6219548e-01,  5.8384210e-01,  6.0548866e-01,  6.2713528e-01,\n",
       "         6.4878184e-01,  6.7042845e-01,  6.9207507e-01,  7.1372163e-01,\n",
       "         7.3536825e-01,  7.5701481e-01,  7.7866143e-01], dtype=float32),\n",
       " <a list of 50 Patch objects>)"
      ]
     },
     "execution_count": 270,
     "metadata": {},
     "output_type": "execute_result"
    },
    {
     "data": {
      "image/png": "[encoded data removed]",
      "text/plain": [
       "<Figure size 432x288 with 1 Axes>"
      ]
     },
     "metadata": {},
     "output_type": "display_data"
    }
   ],
   "source": [
    "#classes and indices of the classes\n",
    "classes, indices = np.unique(data['all_labels'],return_index=True)\n",
    "\n",
    "#compute pairwise correlation within a given class\n",
    "\n",
    "#collect all the vectors of a given category\n",
    "category_vectors = data['memory_bank'][indices[130]:indices[131]]\n",
    "#build list of pairs sampled from \n",
    "\n",
    "#source to generate nonrepeating pairs from a list: \n",
    "#https://www.quora.com/How-do-you-create-random-nonrepetitive-pairs-from-a-list-in-Python\n",
    "def generate_pairs(sequence):\n",
    "    \n",
    "    used_pairs = set()\n",
    "    \n",
    "    #generate non-repeating pairs\n",
    "    while True:\n",
    "        pair = random.sample(sequence,2)\n",
    "        pair = tuple(sorted(pair))\n",
    "        if pair not in used_pairs:\n",
    "            used_pairs.add(pair)\n",
    "            yield np.array(pair)\n",
    "\n",
    "sequence = np.arange(category_vectors.shape[0])\n",
    "generator = generate_pairs(sequence)\n",
    "\n",
    "for i in range(10):\n",
    "    pair = generator.next()\n",
    "    print(pair)\n",
    "    print(pair[0])\n",
    "\n",
    "\n",
    "#Generate list of pairwise dot products sampled uniformly from 1300 choose 2:\n",
    "\n",
    "def pairwise_dot_products(category_vectors, sample_number):\n",
    "    \n",
    "    sequence = np.arange(category_vectors.shape[0])\n",
    "    generator = generate_pairs(sequence)\n",
    "    \n",
    "    dot_products = []\n",
    "    \n",
    "    for i in range(sample_number):\n",
    "        pair = generator.next()\n",
    "        vector_1 = category_vectors[pair[0]]\n",
    "        vector_2 = category_vectors[pair[1]]\n",
    "        dot_product = np.dot(vector_1,vector_2)\n",
    "        dot_products.append(dot_product)\n",
    "    \n",
    "    #histogram = plt.hist(dot_products, bins=40)\n",
    "    \n",
    "    return dot_products\n",
    "\n",
    "plt.hist(pairwise_dot_products(category_vectors,20000),bins=50)\n",
    "#plot_pairwise_dot_products(category_vectors,30000)\n",
    "\n",
    "        \n",
    "        \n",
    "    \n",
    "#looks like a poisson distribution\n",
    "        \n",
    "    \n",
    "    "
   ]
  },
  {
   "cell_type": "code",
   "execution_count": 268,
   "metadata": {},
   "outputs": [
    {
     "name": "stdout",
     "output_type": "stream",
     "text": [
      "sampled categories: [364 385 754 280 159 785 125 954  32 565]\n",
      "shape: (1300, 128)\n"
     ]
    },
    {
     "data": {
      "image/png": "[encoded data removed]",
      "text/plain": [
       "<Figure size 1080x1080 with 10 Axes>"
      ]
     },
     "metadata": {},
     "output_type": "display_data"
    }
   ],
   "source": [
    "#plot pairwise distribution for multiple categories\n",
    "classes, indices = np.unique(data['all_labels'],return_index=True)\n",
    "\n",
    "category_vectors_list = []\n",
    "\n",
    "#sample 10 categories uniformly from the 1000\n",
    "sampled_categories = np.random.choice(1000,10)\n",
    "print(\"sampled categories: \" + str(sampled_categories))\n",
    "\n",
    "for i in range(sampled_categories.shape[0]):\n",
    "    if sampled_categories[i] != 999:\n",
    "        category_vectors_list.append(data['memory_bank'][indices[sampled_categories[i]]:indices[sampled_categories[i]+1]])\n",
    "    elif sampled_categories[i] == 999:\n",
    "        category_vectors_list.append(data['memory_bank'])[indices[sampled_categories[i]]:]\n",
    "        \n",
    "print(\"shape: \" + str(category_vectors_list[3].shape))\n",
    " \n",
    "fig = plt.figure(figsize=(15,15))\n",
    "#fig.subplots_adjust(hspace=0.3, wspace=0.4)\n",
    "for i in range(1,len(category_vectors_list)+1):\n",
    "    plt.subplot(5,2,i)\n",
    "    plt.hist(pairwise_dot_products(category_vectors_list[i-1],20000),bins=50)\n",
    "\n",
    "\n",
    "\n",
    "#looks poisson\n",
    "\n",
    "\n",
    "\n",
    "\n",
    "\n",
    "\n",
    "\n",
    "\n",
    "\n"
   ]
  },
  {
   "cell_type": "code",
   "execution_count": 298,
   "metadata": {},
   "outputs": [
    {
     "name": "stdout",
     "output_type": "stream",
     "text": [
      "(1281166,)\n",
      "-3.256211e-05\n",
      "0.088295445\n"
     ]
    }
   ],
   "source": [
    "#sample an image encoding from the training set\n",
    "sample_index = np.random.choice(data['memory_bank'].shape[0],1)[0]\n",
    "sample_vector = data['memory_bank'][sample_index]\n",
    "sample_category = data['all_labels'][sample_index]\n",
    "\n",
    "#pop sample_vector from memory bank\n",
    "popped_mem_bank = np.delete(data['memory_bank'],sample_index,axis=0)\n",
    "\n",
    "#compute dot product of sample_vector with popped_mem_bank\n",
    "correlations = np.dot(popped_mem_bank,sample_vector)\n",
    "print(correlations.shape)\n",
    "print(np.mean(correlations))\n",
    "print(np.std(correlations))\n",
    "\n"
   ]
  },
  {
   "cell_type": "code",
   "execution_count": 345,
   "metadata": {},
   "outputs": [
    {
     "name": "stdout",
     "output_type": "stream",
     "text": [
      "sample_index: 81355\n"
     ]
    },
    {
     "data": {
      "text/plain": [
       "[(640106, 583, 0.0009107866509609346),\n",
       " (581178, 523, 0.0008998964172766347),\n",
       " (522914, 466, 0.0008911599230466195),\n",
       " (466045, 421, 0.000903346243388514),\n",
       " (412239, 375, 0.0009096664798818161),\n",
       " (360513, 331, 0.0009181361005012302),\n",
       " (312659, 293, 0.0009371231917200528),\n",
       " (268895, 259, 0.0009632012495583778),\n",
       " (228645, 229, 0.0010015526252487481),\n",
       " (192814, 201, 0.0010424554233613742),\n",
       " (161048, 173, 0.0010742138989618003)]"
      ]
     },
     "execution_count": 345,
     "metadata": {},
     "output_type": "execute_result"
    }
   ],
   "source": [
    "sample_index = np.random.choice(data['memory_bank'].shape[0],1)[0]\n",
    "print(\"sample_index: \" + str(sample_index))\n",
    "\n",
    "def threshold_function(x,sample_index):\n",
    "    #print(sample_index)\n",
    "    sample_vector = data['memory_bank'][sample_index]\n",
    "    sample_category = data['all_labels'][sample_index]\n",
    "    #print(sample_category)\n",
    "    popped_mem_bank = np.delete(data['memory_bank'],sample_index,axis=0)\n",
    "    correlations = np.dot(popped_mem_bank,sample_vector)\n",
    "    mask = correlations>x\n",
    "    mask_threshold_indices = np.where(correlations > x)[0]\n",
    "    #print(mask_threshold_indices)\n",
    "    \n",
    "    N_x = np.sum(mask)\n",
    "    M_x = 0\n",
    "    \n",
    "    for i in range(mask_threshold_indices.shape[0]):\n",
    "        index = mask_threshold_indices[i]\n",
    "        if data['all_labels'][index] == sample_category:\n",
    "            M_x += 1\n",
    "    \n",
    "    return N_x, M_x, float(M_x)/N_x\n",
    "\n",
    "#_,_, ratio = threshold_function(0.03,sample_index)\n",
    "\n",
    "x = np.linspace(0,0.1,11)\n",
    "ratios = []\n",
    "for i in range(x.shape[0]):\n",
    "    #print(x[i])\n",
    "    ratio = threshold_function(x[i],sample_index)\n",
    "    ratios.append(ratio)\n",
    "\n",
    "ratios\n",
    "\n",
    "\n",
    "\n",
    "\n",
    "        \n",
    "    \n",
    "    \n",
    "    "
   ]
  },
  {
   "cell_type": "code",
   "execution_count": 349,
   "metadata": {},
   "outputs": [
    {
     "data": {
      "text/plain": [
       "[<matplotlib.lines.Line2D at 0x7f720996d7d0>]"
      ]
     },
     "execution_count": 349,
     "metadata": {},
     "output_type": "execute_result"
    },
    {
     "data": {
      "image/png": "[encoded data removed]",
      "text/plain": [
       "<Figure size 432x288 with 1 Axes>"
      ]
     },
     "metadata": {},
     "output_type": "display_data"
    }
   ],
   "source": [
    "ratios_plot = []\n",
    "\n",
    "for i in range(len(ratios)):\n",
    "    ratios_plot.append(ratios[i][2])\n",
    "\n",
    "x = np.linspace(0,0.1,11)\n",
    "\n",
    "plt.plot(x,ratios_plot)"
   ]
  },
  {
   "cell_type": "code",
   "execution_count": 190,
   "metadata": {},
   "outputs": [
    {
     "data": {
      "text/plain": [
       "20"
      ]
     },
     "execution_count": 190,
     "metadata": {},
     "output_type": "execute_result"
    }
   ],
   "source": [
    "np.dot(np.array((3,4)),np.array((4,2)))\n",
    "\n"
   ]
  },
  {
   "cell_type": "code",
   "execution_count": 313,
   "metadata": {},
   "outputs": [
    {
     "name": "stdout",
     "output_type": "stream",
     "text": [
      "[[ 1  2  3  4]\n",
      " [ 5  6  7  8]\n",
      " [ 9 10 11 12]]\n"
     ]
    },
    {
     "data": {
      "text/plain": [
       "array([1, 4, 5])"
      ]
     },
     "execution_count": 313,
     "metadata": {},
     "output_type": "execute_result"
    }
   ],
   "source": [
    "arr = np.array([[1,2,3,4], [5,6,7,8], [9,10,11,12]])\n",
    "print(arr)\n",
    "\n",
    "arr_2 = np.array([5,6,2,1,171,8])\n",
    "np.where(arr_2 > 5)[0]\n"
   ]
  },
  {
   "cell_type": "code",
   "execution_count": null,
   "metadata": {},
   "outputs": [],
   "source": []
  }
 ],
 "metadata": {
  "kernelspec": {
   "display_name": "Python 2",
   "language": "python",
   "name": "python2"
  },
  "language_info": {
   "codemirror_mode": {
    "name": "ipython",
    "version": 2
   },
   "file_extension": ".py",
   "mimetype": "text/x-python",
   "name": "python",
   "nbconvert_exporter": "python",
   "pygments_lexer": "ipython2",
   "version": "2.7.12"
  }
 },
 "nbformat": 4,
 "nbformat_minor": 2
}
